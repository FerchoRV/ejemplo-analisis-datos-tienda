{
 "cells": [
  {
   "cell_type": "code",
   "execution_count": 31,
   "id": "0bba0eca",
   "metadata": {},
   "outputs": [],
   "source": [
    "import pandas as pd"
   ]
  },
  {
   "cell_type": "code",
   "execution_count": 32,
   "id": "c8fdf17a",
   "metadata": {},
   "outputs": [],
   "source": [
    "# definir las variables de rutas de los documentos.\n",
    "\n",
    "path_1_15_agosto = 'datos-llamadas/Reporte_1_15_agosto.csv'\n",
    "path_1_15_julio = 'datos-llamadas/Reporte_1_15_julio.csv'\n",
    "path_16_31_agosto = 'datos-llamadas/Reporte_16_31_agosto.csv'\n",
    "path_16_31_julio = 'datos-llamadas/Reporte_16_31_julio.csv'"
   ]
  },
  {
   "cell_type": "markdown",
   "id": "73e3d6ae",
   "metadata": {},
   "source": [
    "# Analisis datos del 1 al 15 de julio"
   ]
  },
  {
   "cell_type": "code",
   "execution_count": 33,
   "id": "464faf21",
   "metadata": {},
   "outputs": [
    {
     "data": {
      "text/html": [
       "<div>\n",
       "<style scoped>\n",
       "    .dataframe tbody tr th:only-of-type {\n",
       "        vertical-align: middle;\n",
       "    }\n",
       "\n",
       "    .dataframe tbody tr th {\n",
       "        vertical-align: top;\n",
       "    }\n",
       "\n",
       "    .dataframe thead th {\n",
       "        text-align: right;\n",
       "    }\n",
       "</style>\n",
       "<table border=\"1\" class=\"dataframe\">\n",
       "  <thead>\n",
       "    <tr style=\"text-align: right;\">\n",
       "      <th></th>\n",
       "      <th>Fecha</th>\n",
       "      <th>Fuente</th>\n",
       "      <th>DID</th>\n",
       "      <th>Grupo</th>\n",
       "      <th>Destino</th>\n",
       "      <th>Canal origen</th>\n",
       "      <th>PIN</th>\n",
       "      <th>Canal destino</th>\n",
       "      <th>Estado</th>\n",
       "      <th>Duración</th>\n",
       "      <th>Minutos</th>\n",
       "      <th>Aplicación</th>\n",
       "      <th>ID</th>\n",
       "      <th>Unnamed: 13</th>\n",
       "    </tr>\n",
       "  </thead>\n",
       "  <tbody>\n",
       "    <tr>\n",
       "      <th>0</th>\n",
       "      <td>2025-07-15 19:07:16</td>\n",
       "      <td>2131</td>\n",
       "      <td>3.184967e+09</td>\n",
       "      <td>NaN</td>\n",
       "      <td>3184966691</td>\n",
       "      <td>SIP/2131-000065da</td>\n",
       "      <td>NaN</td>\n",
       "      <td>SIP/Tk_SIP_ITBX-000065db</td>\n",
       "      <td>CONTESTADO</td>\n",
       "      <td>138s (2m 18s)</td>\n",
       "      <td>3</td>\n",
       "      <td>NaN</td>\n",
       "      <td>1752624436.26611</td>\n",
       "      <td>NaN</td>\n",
       "    </tr>\n",
       "  </tbody>\n",
       "</table>\n",
       "</div>"
      ],
      "text/plain": [
       "                 Fecha Fuente           DID  Grupo     Destino  \\\n",
       "0  2025-07-15 19:07:16   2131  3.184967e+09    NaN  3184966691   \n",
       "\n",
       "        Canal origen  PIN             Canal destino      Estado  \\\n",
       "0  SIP/2131-000065da  NaN  SIP/Tk_SIP_ITBX-000065db  CONTESTADO   \n",
       "\n",
       "        Duración  Minutos  Aplicación                ID  Unnamed: 13  \n",
       "0  138s (2m 18s)        3         NaN  1752624436.26611          NaN  "
      ]
     },
     "execution_count": 33,
     "metadata": {},
     "output_type": "execute_result"
    }
   ],
   "source": [
    "# Cargado el archivo de la fecha con pandas\n",
    "df_julio_1 = pd.read_csv(path_1_15_julio, encoding='ISO-8859-1')# envio ruta de datos 1 al 15 de julio\n",
    "df_julio_1.head(1)"
   ]
  },
  {
   "cell_type": "code",
   "execution_count": 34,
   "id": "3e3f8fa8",
   "metadata": {},
   "outputs": [
    {
     "name": "stdout",
     "output_type": "stream",
     "text": [
      "<class 'pandas.core.frame.DataFrame'>\n",
      "RangeIndex: 117925 entries, 0 to 117924\n",
      "Data columns (total 14 columns):\n",
      " #   Column         Non-Null Count   Dtype  \n",
      "---  ------         --------------   -----  \n",
      " 0   Fecha          117925 non-null  object \n",
      " 1   Fuente         117925 non-null  object \n",
      " 2   DID            117876 non-null  float64\n",
      " 3   Grupo          0 non-null       float64\n",
      " 4   Destino        117925 non-null  int64  \n",
      " 5   Canal origen   117925 non-null  object \n",
      " 6   PIN            0 non-null       float64\n",
      " 7   Canal destino  117925 non-null  object \n",
      " 8   Estado         117925 non-null  object \n",
      " 9   Duración       117925 non-null  object \n",
      " 10  Minutos        117925 non-null  int64  \n",
      " 11  Aplicación     0 non-null       float64\n",
      " 12  ID             117925 non-null  object \n",
      " 13  Unnamed: 13    0 non-null       float64\n",
      "dtypes: float64(5), int64(2), object(7)\n",
      "memory usage: 12.6+ MB\n"
     ]
    }
   ],
   "source": [
    "#Verificamos el estado de los datos con la funcion info()\n",
    "df_julio_1.info()"
   ]
  },
  {
   "cell_type": "code",
   "execution_count": 35,
   "id": "cd1af790",
   "metadata": {},
   "outputs": [
    {
     "name": "stdout",
     "output_type": "stream",
     "text": [
      "<class 'pandas.core.frame.DataFrame'>\n",
      "RangeIndex: 117925 entries, 0 to 117924\n",
      "Data columns (total 10 columns):\n",
      " #   Column         Non-Null Count   Dtype  \n",
      "---  ------         --------------   -----  \n",
      " 0   Fecha          117925 non-null  object \n",
      " 1   Fuente         117925 non-null  object \n",
      " 2   DID            117876 non-null  float64\n",
      " 3   Destino        117925 non-null  int64  \n",
      " 4   Canal origen   117925 non-null  object \n",
      " 5   Canal destino  117925 non-null  object \n",
      " 6   Estado         117925 non-null  object \n",
      " 7   Duración       117925 non-null  object \n",
      " 8   Minutos        117925 non-null  int64  \n",
      " 9   ID             117925 non-null  object \n",
      "dtypes: float64(1), int64(2), object(7)\n",
      "memory usage: 9.0+ MB\n"
     ]
    }
   ],
   "source": [
    "# eliminar columnas que resgistran datos nulos.\n",
    "\n",
    "df_julio_1 = df_julio_1.drop(columns=[\"Grupo\", \"PIN\",\"Aplicación\", \"Unnamed: 13\"])\n",
    "\n",
    "df_julio_1.info()"
   ]
  },
  {
   "cell_type": "code",
   "execution_count": null,
   "id": "780598fa",
   "metadata": {},
   "outputs": [
    {
     "data": {
      "text/plain": [
       "np.int64(0)"
      ]
     },
     "execution_count": 37,
     "metadata": {},
     "output_type": "execute_result"
    }
   ],
   "source": [
    "# Verificar datos duplicados\n",
    "\n",
    "df_julio_1.duplicated().sum()\n",
    "\n",
    "# si exixten duplicados utilizar la funcion drop_duplicates()\n",
    "\n",
    "#df_julio_1 = df_julio_1.drop_duplicates()\n"
   ]
  },
  {
   "cell_type": "code",
   "execution_count": 38,
   "id": "14cc320e",
   "metadata": {},
   "outputs": [
    {
     "name": "stdout",
     "output_type": "stream",
     "text": [
      "<class 'pandas.core.frame.DataFrame'>\n",
      "RangeIndex: 117925 entries, 0 to 117924\n",
      "Data columns (total 4 columns):\n",
      " #   Column   Non-Null Count   Dtype \n",
      "---  ------   --------------   ----- \n",
      " 0   Fecha    117925 non-null  object\n",
      " 1   Fuente   117925 non-null  object\n",
      " 2   Estado   117925 non-null  object\n",
      " 3   Minutos  117925 non-null  int64 \n",
      "dtypes: int64(1), object(3)\n",
      "memory usage: 3.6+ MB\n"
     ]
    }
   ],
   "source": [
    "# eliminar columnas que el experto dice que se pueden omitir y no aporta al problema en estudio\n",
    "# Alex dice que columanas DID, Destino,Canal origen, Canal destino, Duración, ID son desechables.\n",
    "# Para utilizamos la funcion drop() nuevamente.\n",
    "\n",
    "df_julio_1 = df_julio_1.drop(columns=[\"DID\", \"Destino\", \"Canal origen\", \"Canal destino\", \"Duración\",\"ID\"])\n",
    "\n",
    "df_julio_1.info()"
   ]
  },
  {
   "cell_type": "code",
   "execution_count": 39,
   "id": "94ca436f",
   "metadata": {},
   "outputs": [
    {
     "data": {
      "text/html": [
       "<div>\n",
       "<style scoped>\n",
       "    .dataframe tbody tr th:only-of-type {\n",
       "        vertical-align: middle;\n",
       "    }\n",
       "\n",
       "    .dataframe tbody tr th {\n",
       "        vertical-align: top;\n",
       "    }\n",
       "\n",
       "    .dataframe thead th {\n",
       "        text-align: right;\n",
       "    }\n",
       "</style>\n",
       "<table border=\"1\" class=\"dataframe\">\n",
       "  <thead>\n",
       "    <tr style=\"text-align: right;\">\n",
       "      <th></th>\n",
       "      <th>Fecha</th>\n",
       "      <th>Fuente</th>\n",
       "      <th>Estado</th>\n",
       "      <th>Minutos</th>\n",
       "    </tr>\n",
       "  </thead>\n",
       "  <tbody>\n",
       "    <tr>\n",
       "      <th>0</th>\n",
       "      <td>2025-07-15 19:07:16</td>\n",
       "      <td>2131</td>\n",
       "      <td>CONTESTADO</td>\n",
       "      <td>3</td>\n",
       "    </tr>\n",
       "    <tr>\n",
       "      <th>1</th>\n",
       "      <td>2025-07-15 19:03:09</td>\n",
       "      <td>2131</td>\n",
       "      <td>CONTESTADO</td>\n",
       "      <td>3</td>\n",
       "    </tr>\n",
       "    <tr>\n",
       "      <th>2</th>\n",
       "      <td>2025-07-15 19:02:47</td>\n",
       "      <td>2131</td>\n",
       "      <td>NO CONTESTADO</td>\n",
       "      <td>0</td>\n",
       "    </tr>\n",
       "    <tr>\n",
       "      <th>3</th>\n",
       "      <td>2025-07-15 19:02:11</td>\n",
       "      <td>2131</td>\n",
       "      <td>NO CONTESTADO</td>\n",
       "      <td>0</td>\n",
       "    </tr>\n",
       "    <tr>\n",
       "      <th>4</th>\n",
       "      <td>2025-07-15 19:00:19</td>\n",
       "      <td>2131</td>\n",
       "      <td>CONTESTADO</td>\n",
       "      <td>2</td>\n",
       "    </tr>\n",
       "  </tbody>\n",
       "</table>\n",
       "</div>"
      ],
      "text/plain": [
       "                 Fecha Fuente         Estado  Minutos\n",
       "0  2025-07-15 19:07:16   2131     CONTESTADO        3\n",
       "1  2025-07-15 19:03:09   2131     CONTESTADO        3\n",
       "2  2025-07-15 19:02:47   2131  NO CONTESTADO        0\n",
       "3  2025-07-15 19:02:11   2131  NO CONTESTADO        0\n",
       "4  2025-07-15 19:00:19   2131     CONTESTADO        2"
      ]
     },
     "execution_count": 39,
     "metadata": {},
     "output_type": "execute_result"
    }
   ],
   "source": [
    "df_julio_1.head(5)"
   ]
  },
  {
   "cell_type": "markdown",
   "id": "b10f8ffe",
   "metadata": {},
   "source": [
    "## Reporte minutos por estado de llamada\n",
    "\n",
    "Es decir calcular total de llamadas contestadas y total de minutos utilizados"
   ]
  },
  {
   "cell_type": "code",
   "execution_count": 41,
   "id": "6ef3910d",
   "metadata": {},
   "outputs": [
    {
     "data": {
      "text/plain": [
       "Estado\n",
       "NO CONTESTADO    59735\n",
       "CONTESTADO       55377\n",
       "OCUPADO           1641\n",
       "FALLIDO           1172\n",
       "Name: count, dtype: int64"
      ]
     },
     "execution_count": 41,
     "metadata": {},
     "output_type": "execute_result"
    }
   ],
   "source": [
    "# Calcular el total de llamas en estaod contestado\n",
    "# por medio de funcion count\n",
    "\n",
    "llamadas = df_julio_1[\"Estado\"].value_counts()\n",
    "llamadas"
   ]
  },
  {
   "cell_type": "code",
   "execution_count": 43,
   "id": "ca92aa88",
   "metadata": {},
   "outputs": [
    {
     "data": {
      "text/plain": [
       "<Axes: xlabel='Estado'>"
      ]
     },
     "execution_count": 43,
     "metadata": {},
     "output_type": "execute_result"
    },
    {
     "data": {
      "image/png": "[encoded data removed]",
      "text/plain": [
       "<Figure size 640x480 with 1 Axes>"
      ]
     },
     "metadata": {},
     "output_type": "display_data"
    }
   ],
   "source": [
    "# graficar resporte deestado de llamadas\n",
    "\n",
    "llamadas.plot(kind='bar')"
   ]
  },
  {
   "cell_type": "code",
   "execution_count": 51,
   "id": "1aaf86ec",
   "metadata": {},
   "outputs": [
    {
     "data": {
      "text/plain": [
       "np.int64(129780)"
      ]
     },
     "execution_count": 51,
     "metadata": {},
     "output_type": "execute_result"
    }
   ],
   "source": [
    "# calcular total minutos en llamadas contestadas\n",
    "df_contestadas = df_julio_1[df_julio_1['Estado'] == 'CONTESTADO'] # Extraer los registro que solo tiene en estado el valor de contestado\n",
    "time_llamadas_contestadas = df_contestadas['Minutos'].sum()\n",
    "\n",
    "time_llamadas_contestadas"
   ]
  },
  {
   "cell_type": "code",
   "execution_count": 55,
   "id": "8660a906",
   "metadata": {},
   "outputs": [
    {
     "data": {
      "text/plain": [
       "np.int64(176)"
      ]
     },
     "execution_count": 55,
     "metadata": {},
     "output_type": "execute_result"
    }
   ],
   "source": [
    "# Calcular el total de llamadas por agente\n",
    "# en base a la frecuencia en la columna Fuente\n",
    "llamadas_agentes  = df_julio_1[\"Fuente\"].value_counts()\n",
    "\n",
    "cantidad_agentes = llamadas_agentes.count()\n",
    "\n",
    "cantidad_agentes\n"
   ]
  },
  {
   "cell_type": "code",
   "execution_count": 56,
   "id": "82b7906f",
   "metadata": {},
   "outputs": [
    {
     "data": {
      "text/plain": [
       "Fuente\n",
       "anonymous     37747\n",
       "2604           1514\n",
       "2615           1448\n",
       "2531           1406\n",
       "2617           1354\n",
       "              ...  \n",
       "3108958670        1\n",
       "3118116175        1\n",
       "3168031488        1\n",
       "3192587838        1\n",
       "3187635763        1\n",
       "Name: count, Length: 176, dtype: int64"
      ]
     },
     "execution_count": 56,
     "metadata": {},
     "output_type": "execute_result"
    }
   ],
   "source": [
    "llamadas_agentes"
   ]
  },
  {
   "cell_type": "code",
   "execution_count": 63,
   "id": "70832385",
   "metadata": {},
   "outputs": [],
   "source": [
    "# Calcular los minutos por categora encontrada en llamadas_agentes y relacionarlo a el total de munitos gastados.\n",
    "\n",
    "datos_resporte = {'agente':[],\n",
    "                  'llamadas': [],\n",
    "                  'minutos_totales': []\n",
    "                  }\n",
    "count = 0\n",
    "for code, canditad_llamadas_agente in llamadas_agentes.items():\n",
    "    df_minutos_agente = df_julio_1[df_julio_1['Estado'] == 'CONTESTADO'] \n",
    "    df_minutos_agente = df_minutos_agente[df_minutos_agente['Fuente'] == code]\n",
    "    time_agente = df_minutos_agente['Minutos'].sum()\n",
    "    datos_resporte['agente'].append(code)\n",
    "    datos_resporte['llamadas'].append(canditad_llamadas_agente)\n",
    "    datos_resporte['minutos_totales'].append(time_agente)   \n",
    "\n",
    "\n",
    "\n",
    "df_reporte_agentes =  pd.DataFrame(datos_resporte)\n",
    "df_reporte_agentes.to_excel(\"reporte_agentes_1_15_julio.xlsx\", index=False)"
   ]
  },
  {
   "cell_type": "markdown",
   "id": "8c6c3a48",
   "metadata": {},
   "source": [
    "## Ejemplo procesar und ato de texto de duracion y convertirlo en dato entero de minutos"
   ]
  },
  {
   "cell_type": "code",
   "execution_count": 30,
   "id": "bc37cd5e",
   "metadata": {},
   "outputs": [
    {
     "name": "stdout",
     "output_type": "stream",
     "text": [
      "['120s', '(2m', '18s)']\n",
      "120\n",
      "2\n"
     ]
    }
   ],
   "source": [
    "import math\n",
    "\n",
    "dato = '120s (2m 18s)'\n",
    "\n",
    "# Pasos para procesar un dato de tiempo en texto y convertir en entro redondeado superior\n",
    "\n",
    "partes_dato = dato.split(' ')\n",
    "print(partes_dato)\n",
    "\n",
    "valor = partes_dato[0]\n",
    "limite = len(valor) - 1\n",
    "valor = valor[:limite]\n",
    "print(valor)\n",
    "\n",
    "valor = int(valor)\n",
    "minutos = math.ceil(valor/60)\n",
    "print(minutos)\n"
   ]
  }
 ],
 "metadata": {
  "kernelspec": {
   "display_name": "_env",
   "language": "python",
   "name": "python3"
  },
  "language_info": {
   "codemirror_mode": {
    "name": "ipython",
    "version": 3
   },
   "file_extension": ".py",
   "mimetype": "text/x-python",
   "name": "python",
   "nbconvert_exporter": "python",
   "pygments_lexer": "ipython3",
   "version": "3.13.5"
  }
 },
 "nbformat": 4,
 "nbformat_minor": 5
}
