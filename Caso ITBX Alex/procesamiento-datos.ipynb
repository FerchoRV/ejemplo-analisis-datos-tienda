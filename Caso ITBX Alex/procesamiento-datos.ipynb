{
 "cells": [
  {
   "cell_type": "code",
   "execution_count": 1,
   "id": "0bba0eca",
   "metadata": {},
   "outputs": [],
   "source": [
    "import pandas as pd"
   ]
  },
  {
   "cell_type": "code",
   "execution_count": 11,
   "id": "c8fdf17a",
   "metadata": {},
   "outputs": [],
   "source": [
    "# definir las variables de rutas de los documentos.\n",
    "\n",
    "path_1_15_agosto = 'datos-llamadas/Reporte_1_15_agosto.csv'\n",
    "path_1_15_julio = 'datos-llamadas/Reporte_1_15_julio.csv'\n",
    "path_16_31_agosto = 'datos-llamadas/Reporte_16_31_agosto.csv'\n",
    "path_16_31_julio = 'datos-llamadas/Reporte_16_31_julio.csv'"
   ]
  },
  {
   "cell_type": "markdown",
   "id": "73e3d6ae",
   "metadata": {},
   "source": [
    "# Analisis datos del 1 al 15 de julio"
   ]
  },
  {
   "cell_type": "code",
   "execution_count": 12,
   "id": "464faf21",
   "metadata": {},
   "outputs": [
    {
     "data": {
      "text/html": [
       "<div>\n",
       "<style scoped>\n",
       "    .dataframe tbody tr th:only-of-type {\n",
       "        vertical-align: middle;\n",
       "    }\n",
       "\n",
       "    .dataframe tbody tr th {\n",
       "        vertical-align: top;\n",
       "    }\n",
       "\n",
       "    .dataframe thead th {\n",
       "        text-align: right;\n",
       "    }\n",
       "</style>\n",
       "<table border=\"1\" class=\"dataframe\">\n",
       "  <thead>\n",
       "    <tr style=\"text-align: right;\">\n",
       "      <th></th>\n",
       "      <th>Fecha</th>\n",
       "      <th>Fuente</th>\n",
       "      <th>DID</th>\n",
       "      <th>Grupo</th>\n",
       "      <th>Destino</th>\n",
       "      <th>Canal origen</th>\n",
       "      <th>PIN</th>\n",
       "      <th>Canal destino</th>\n",
       "      <th>Estado</th>\n",
       "      <th>Duración</th>\n",
       "      <th>Minutos</th>\n",
       "      <th>Aplicación</th>\n",
       "      <th>ID</th>\n",
       "      <th>Unnamed: 13</th>\n",
       "    </tr>\n",
       "  </thead>\n",
       "  <tbody>\n",
       "    <tr>\n",
       "      <th>0</th>\n",
       "      <td>2025-07-15 19:07:16</td>\n",
       "      <td>2131</td>\n",
       "      <td>3.184967e+09</td>\n",
       "      <td>NaN</td>\n",
       "      <td>3184966691</td>\n",
       "      <td>SIP/2131-000065da</td>\n",
       "      <td>NaN</td>\n",
       "      <td>SIP/Tk_SIP_ITBX-000065db</td>\n",
       "      <td>CONTESTADO</td>\n",
       "      <td>138s (2m 18s)</td>\n",
       "      <td>3</td>\n",
       "      <td>NaN</td>\n",
       "      <td>1752624436.26611</td>\n",
       "      <td>NaN</td>\n",
       "    </tr>\n",
       "  </tbody>\n",
       "</table>\n",
       "</div>"
      ],
      "text/plain": [
       "                 Fecha Fuente           DID  Grupo     Destino  \\\n",
       "0  2025-07-15 19:07:16   2131  3.184967e+09    NaN  3184966691   \n",
       "\n",
       "        Canal origen  PIN             Canal destino      Estado  \\\n",
       "0  SIP/2131-000065da  NaN  SIP/Tk_SIP_ITBX-000065db  CONTESTADO   \n",
       "\n",
       "        Duración  Minutos  Aplicación                ID  Unnamed: 13  \n",
       "0  138s (2m 18s)        3         NaN  1752624436.26611          NaN  "
      ]
     },
     "execution_count": 12,
     "metadata": {},
     "output_type": "execute_result"
    }
   ],
   "source": [
    "# Cargado el archivo de la fecha con pandas\n",
    "df_julio_1 = pd.read_csv(path_1_15_julio, encoding='ISO-8859-1')# envio ruta de datos 1 al 15 de julio\n",
    "df_julio_1.head(1)"
   ]
  },
  {
   "cell_type": "code",
   "execution_count": 13,
   "id": "3e3f8fa8",
   "metadata": {},
   "outputs": [
    {
     "name": "stdout",
     "output_type": "stream",
     "text": [
      "<class 'pandas.core.frame.DataFrame'>\n",
      "RangeIndex: 117925 entries, 0 to 117924\n",
      "Data columns (total 14 columns):\n",
      " #   Column         Non-Null Count   Dtype  \n",
      "---  ------         --------------   -----  \n",
      " 0   Fecha          117925 non-null  object \n",
      " 1   Fuente         117925 non-null  object \n",
      " 2   DID            117876 non-null  float64\n",
      " 3   Grupo          0 non-null       float64\n",
      " 4   Destino        117925 non-null  int64  \n",
      " 5   Canal origen   117925 non-null  object \n",
      " 6   PIN            0 non-null       float64\n",
      " 7   Canal destino  117925 non-null  object \n",
      " 8   Estado         117925 non-null  object \n",
      " 9   Duración       117925 non-null  object \n",
      " 10  Minutos        117925 non-null  int64  \n",
      " 11  Aplicación     0 non-null       float64\n",
      " 12  ID             117925 non-null  object \n",
      " 13  Unnamed: 13    0 non-null       float64\n",
      "dtypes: float64(5), int64(2), object(7)\n",
      "memory usage: 12.6+ MB\n"
     ]
    }
   ],
   "source": [
    "#Verificamos el estado de los datos con la funcion info()\n",
    "df_julio_1.info()"
   ]
  },
  {
   "cell_type": "code",
   "execution_count": 14,
   "id": "cd1af790",
   "metadata": {},
   "outputs": [
    {
     "name": "stdout",
     "output_type": "stream",
     "text": [
      "<class 'pandas.core.frame.DataFrame'>\n",
      "RangeIndex: 117925 entries, 0 to 117924\n",
      "Data columns (total 10 columns):\n",
      " #   Column         Non-Null Count   Dtype  \n",
      "---  ------         --------------   -----  \n",
      " 0   Fecha          117925 non-null  object \n",
      " 1   Fuente         117925 non-null  object \n",
      " 2   DID            117876 non-null  float64\n",
      " 3   Destino        117925 non-null  int64  \n",
      " 4   Canal origen   117925 non-null  object \n",
      " 5   Canal destino  117925 non-null  object \n",
      " 6   Estado         117925 non-null  object \n",
      " 7   Duración       117925 non-null  object \n",
      " 8   Minutos        117925 non-null  int64  \n",
      " 9   ID             117925 non-null  object \n",
      "dtypes: float64(1), int64(2), object(7)\n",
      "memory usage: 9.0+ MB\n"
     ]
    }
   ],
   "source": [
    "# eliminar columnas que resgistran datos nulos.\n",
    "\n",
    "df_julio_1 = df_julio_1.drop(columns=[\"Grupo\", \"PIN\",\"Aplicación\", \"Unnamed: 13\"])\n",
    "\n",
    "df_julio_1.info()"
   ]
  },
  {
   "cell_type": "code",
   "execution_count": 15,
   "id": "14cc320e",
   "metadata": {},
   "outputs": [
    {
     "name": "stdout",
     "output_type": "stream",
     "text": [
      "<class 'pandas.core.frame.DataFrame'>\n",
      "RangeIndex: 117925 entries, 0 to 117924\n",
      "Data columns (total 4 columns):\n",
      " #   Column   Non-Null Count   Dtype \n",
      "---  ------   --------------   ----- \n",
      " 0   Fecha    117925 non-null  object\n",
      " 1   Fuente   117925 non-null  object\n",
      " 2   Estado   117925 non-null  object\n",
      " 3   Minutos  117925 non-null  int64 \n",
      "dtypes: int64(1), object(3)\n",
      "memory usage: 3.6+ MB\n"
     ]
    }
   ],
   "source": [
    "# eliminar columnas que el experto dice que se pueden omitir y no aporta al problema en estudio\n",
    "# Alex dice que columanas DID, Destino,Canal origen, Canal destino, Duración, ID son desechables.\n",
    "# Para utilizamos la funcion drop() nuevamente.\n",
    "\n",
    "df_julio_1 = df_julio_1.drop(columns=[\"DID\", \"Destino\", \"Canal origen\", \"Canal destino\", \"Duración\",\"ID\"])\n",
    "\n",
    "df_julio_1.info()"
   ]
  },
  {
   "cell_type": "code",
   "execution_count": 16,
   "id": "94ca436f",
   "metadata": {},
   "outputs": [
    {
     "data": {
      "text/html": [
       "<div>\n",
       "<style scoped>\n",
       "    .dataframe tbody tr th:only-of-type {\n",
       "        vertical-align: middle;\n",
       "    }\n",
       "\n",
       "    .dataframe tbody tr th {\n",
       "        vertical-align: top;\n",
       "    }\n",
       "\n",
       "    .dataframe thead th {\n",
       "        text-align: right;\n",
       "    }\n",
       "</style>\n",
       "<table border=\"1\" class=\"dataframe\">\n",
       "  <thead>\n",
       "    <tr style=\"text-align: right;\">\n",
       "      <th></th>\n",
       "      <th>Fecha</th>\n",
       "      <th>Fuente</th>\n",
       "      <th>Estado</th>\n",
       "      <th>Minutos</th>\n",
       "    </tr>\n",
       "  </thead>\n",
       "  <tbody>\n",
       "    <tr>\n",
       "      <th>0</th>\n",
       "      <td>2025-07-15 19:07:16</td>\n",
       "      <td>2131</td>\n",
       "      <td>CONTESTADO</td>\n",
       "      <td>3</td>\n",
       "    </tr>\n",
       "    <tr>\n",
       "      <th>1</th>\n",
       "      <td>2025-07-15 19:03:09</td>\n",
       "      <td>2131</td>\n",
       "      <td>CONTESTADO</td>\n",
       "      <td>3</td>\n",
       "    </tr>\n",
       "    <tr>\n",
       "      <th>2</th>\n",
       "      <td>2025-07-15 19:02:47</td>\n",
       "      <td>2131</td>\n",
       "      <td>NO CONTESTADO</td>\n",
       "      <td>0</td>\n",
       "    </tr>\n",
       "    <tr>\n",
       "      <th>3</th>\n",
       "      <td>2025-07-15 19:02:11</td>\n",
       "      <td>2131</td>\n",
       "      <td>NO CONTESTADO</td>\n",
       "      <td>0</td>\n",
       "    </tr>\n",
       "    <tr>\n",
       "      <th>4</th>\n",
       "      <td>2025-07-15 19:00:19</td>\n",
       "      <td>2131</td>\n",
       "      <td>CONTESTADO</td>\n",
       "      <td>2</td>\n",
       "    </tr>\n",
       "  </tbody>\n",
       "</table>\n",
       "</div>"
      ],
      "text/plain": [
       "                 Fecha Fuente         Estado  Minutos\n",
       "0  2025-07-15 19:07:16   2131     CONTESTADO        3\n",
       "1  2025-07-15 19:03:09   2131     CONTESTADO        3\n",
       "2  2025-07-15 19:02:47   2131  NO CONTESTADO        0\n",
       "3  2025-07-15 19:02:11   2131  NO CONTESTADO        0\n",
       "4  2025-07-15 19:00:19   2131     CONTESTADO        2"
      ]
     },
     "execution_count": 16,
     "metadata": {},
     "output_type": "execute_result"
    }
   ],
   "source": [
    "df_julio_1.head(5)"
   ]
  },
  {
   "cell_type": "code",
   "execution_count": null,
   "id": "bc37cd5e",
   "metadata": {},
   "outputs": [],
   "source": []
  }
 ],
 "metadata": {
  "kernelspec": {
   "display_name": "_env",
   "language": "python",
   "name": "python3"
  },
  "language_info": {
   "codemirror_mode": {
    "name": "ipython",
    "version": 3
   },
   "file_extension": ".py",
   "mimetype": "text/x-python",
   "name": "python",
   "nbconvert_exporter": "python",
   "pygments_lexer": "ipython3",
   "version": "3.13.5"
  }
 },
 "nbformat": 4,
 "nbformat_minor": 5
}
