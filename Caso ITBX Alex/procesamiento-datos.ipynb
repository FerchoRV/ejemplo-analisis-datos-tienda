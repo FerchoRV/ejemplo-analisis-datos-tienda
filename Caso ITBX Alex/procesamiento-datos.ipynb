{
 "cells": [
  {
   "cell_type": "code",
   "execution_count": 1,
   "id": "0bba0eca",
   "metadata": {},
   "outputs": [],
   "source": [
    "import pandas as pd"
   ]
  },
  {
   "cell_type": "code",
   "execution_count": 2,
   "id": "c8fdf17a",
   "metadata": {},
   "outputs": [],
   "source": [
    "# definir las variables de rutas de los documentos.\n",
    "\n",
    "path_1_15_agosto = 'datos-llamadas/Reporte_1_15_agosto.csv'\n",
    "path_1_15_julio = 'datos-llamadas/Reporte_1_15_julio.csv'\n",
    "path_16_31_agosto = 'datos-llamadas/Reporte_16_31_agosto.csv'\n",
    "path_16_31_julio = 'datos-llamadas/Reporte_16_31_julio.csv'"
   ]
  },
  {
   "cell_type": "markdown",
   "id": "73e3d6ae",
   "metadata": {},
   "source": [
    "# Analisis datos del 1 al 15 de julio"
   ]
  },
  {
   "cell_type": "code",
   "execution_count": null,
   "id": "464faf21",
   "metadata": {},
   "outputs": [],
   "source": []
  }
 ],
 "metadata": {
  "kernelspec": {
   "display_name": "_env",
   "language": "python",
   "name": "python3"
  },
  "language_info": {
   "codemirror_mode": {
    "name": "ipython",
    "version": 3
   },
   "file_extension": ".py",
   "mimetype": "text/x-python",
   "name": "python",
   "nbconvert_exporter": "python",
   "pygments_lexer": "ipython3",
   "version": "3.13.5"
  }
 },
 "nbformat": 4,
 "nbformat_minor": 5
}
