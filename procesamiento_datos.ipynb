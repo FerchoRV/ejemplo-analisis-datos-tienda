{
 "cells": [
  {
   "cell_type": "markdown",
   "id": "083fa055",
   "metadata": {},
   "source": [
    "# Documento notebook con el procesamiento inical de los datos"
   ]
  }
 ],
 "metadata": {
  "language_info": {
   "name": "python"
  }
 },
 "nbformat": 4,
 "nbformat_minor": 5
}
